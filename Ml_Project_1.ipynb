{
 "cells": [
  {
   "cell_type": "markdown",
   "id": "7b29bed3",
   "metadata": {},
   "source": [
    "# Predictiong heart disease using machine learning \n",
    "\n",
    "This notebook looks into using various Python-based machine learning and date science libraries in attempt to build a machine learning model capable of predicting whether or not someone has heart disease based on their medical attributes.\n",
    "\n",
    "We're going to take the following approach:\n",
    "\n",
    "1. Problem Definition\n",
    "2. Data \n",
    "3. Evaluation \n",
    "4. Features \n",
    "5. Modelling\n",
    "6. Experimentation\n",
    "\n",
    "## 1. Problem Definition\n",
    "\n",
    "In a statement,\n",
    "> Given clinical parameters about a patient, can we predict whehter or not they have heart disease?\n",
    "\n",
    "## 2. Data\n",
    "\n",
    "The original data came from the Cleavland data from the UCI Machine Learning Repository. https://archive.ics.uci.edu/ml/datasets/heart+Disease\n",
    "\n",
    "There is also a version of it available on Kaggle. https://www.kaggle.com/ronitf/heart-disease-uci\n",
    "\n",
    "## 3. Evaluation\n",
    "\n",
    "> If we can reach 95% accuracy at predicting whether or not a patient has heart disease during the proof of concept, we'll pursue the project\n",
    "\n",
    "## 4. Features \n",
    "\n",
    "1. #3 (age)\n",
    "2. #4 (sex)\n",
    "3. #9 (cp)\n",
    "4. #10 (trestbps)\n",
    "5. #12 (chol)\n",
    "6. #16 (fbs)\n",
    "7. #19 (restecg)\n",
    "8. #32 (thalach)\n",
    "9. #38 (exang)\n",
    "10. #40 (oldpeak)\n",
    "11. #41 (slope)\n",
    "12. #44 (ca)\n",
    "13. #51 (thal)\n",
    "14. #58 (num) (the predicted attribute)"
   ]
  },
  {
   "cell_type": "markdown",
   "id": "a48e9f3f",
   "metadata": {},
   "source": [
    "# Preparing the tools\n",
    "\n",
    "We're going to use Pandas, Matplotlib and Numpy for data analysis and manipulation"
   ]
  },
  {
   "cell_type": "code",
   "execution_count": 3,
   "id": "01bd8c3d",
   "metadata": {},
   "outputs": [],
   "source": [
    "# Import all the tools we need\n",
    "\n",
    "# Regular EDA (exploratory data analysis) and plotting libraries \n",
    "\n",
    "import numpy as np\n",
    "import pandas as pd\n",
    "import matplotlib.pyplot as plt\n",
    "\n",
    "%matplotlib inline\n",
    "\n",
    "from sklearn.linear_model import LogisticRegression\n",
    "from sklearn.neighbors import KNeighborsClassifier\n",
    "from sklearn.ensemble import RandomForestClassifier\n",
    "\n",
    "from sklearn.model_selection import train_test_split, cross_val_score\n",
    "from sklearn.model_selection import RandomizedSearchCV, GridSearchCV\n",
    "from sklearn.metrics import confusion_matrix, classification_report\n",
    "from sklearn.metrics import precision_score, recall_score, f1_score\n",
    "from sklearn.metrics import plot_roc_curve"
   ]
  },
  {
   "cell_type": "code",
   "execution_count": null,
   "id": "4b50160d",
   "metadata": {},
   "outputs": [],
   "source": []
  }
 ],
 "metadata": {
  "kernelspec": {
   "display_name": "Python 3 (ipykernel)",
   "language": "python",
   "name": "python3"
  },
  "language_info": {
   "codemirror_mode": {
    "name": "ipython",
    "version": 3
   },
   "file_extension": ".py",
   "mimetype": "text/x-python",
   "name": "python",
   "nbconvert_exporter": "python",
   "pygments_lexer": "ipython3",
   "version": "3.9.12"
  }
 },
 "nbformat": 4,
 "nbformat_minor": 5
}
